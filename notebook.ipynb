{
 "cells": [
  {
   "cell_type": "markdown",
   "metadata": {},
   "source": [
    "## NLP Project - SemEval2023 Task 3 subtask 1 - Detecting the category in online news in a multi-lingual setup"
   ]
  },
  {
   "cell_type": "markdown",
   "metadata": {},
   "source": [
    "##### Import libraries"
   ]
  },
  {
   "cell_type": "code",
   "execution_count": null,
   "metadata": {},
   "outputs": [],
   "source": [
    "from st1 import make_dataframe\n",
    "import helper_functions as hf \n",
    "import pandas as pd"
   ]
  },
  {
   "cell_type": "markdown",
   "metadata": {},
   "source": [
    "## Language - English"
   ]
  },
  {
   "cell_type": "markdown",
   "metadata": {},
   "source": [
    "### Part 1 - Analyze and process data"
   ]
  },
  {
   "cell_type": "markdown",
   "metadata": {},
   "source": [
    "#### Analyze data"
   ]
  },
  {
   "cell_type": "markdown",
   "metadata": {},
   "source": [
    "##### Load data"
   ]
  },
  {
   "cell_type": "code",
   "execution_count": 31,
   "metadata": {},
   "outputs": [],
   "source": [
    "train_folder = \"data/en/train-articles-subtask-1/\"\n",
    "train_labels = \"data/en/train-labels-subtask-1.txt\"\n",
    "\n",
    "test_folder = \"data/en/dev-articles-subtask-1/\""
   ]
  },
  {
   "cell_type": "code",
   "execution_count": 32,
   "metadata": {},
   "outputs": [
    {
     "name": "stderr",
     "output_type": "stream",
     "text": [
      "433it [00:00, 6985.24it/s]\n",
      "83it [00:00, 6919.37it/s]\n"
     ]
    }
   ],
   "source": [
    "df_train = make_dataframe(train_folder, train_labels)\n",
    "df_test = make_dataframe(test_folder, labels_folder = None)"
   ]
  },
  {
   "cell_type": "code",
   "execution_count": 33,
   "metadata": {},
   "outputs": [
    {
     "data": {
      "text/html": [
       "<div>\n",
       "<style scoped>\n",
       "    .dataframe tbody tr th:only-of-type {\n",
       "        vertical-align: middle;\n",
       "    }\n",
       "\n",
       "    .dataframe tbody tr th {\n",
       "        vertical-align: top;\n",
       "    }\n",
       "\n",
       "    .dataframe thead th {\n",
       "        text-align: right;\n",
       "    }\n",
       "</style>\n",
       "<table border=\"1\" class=\"dataframe\">\n",
       "  <thead>\n",
       "    <tr style=\"text-align: right;\">\n",
       "      <th></th>\n",
       "      <th>text</th>\n",
       "      <th>type</th>\n",
       "    </tr>\n",
       "    <tr>\n",
       "      <th>id</th>\n",
       "      <th></th>\n",
       "      <th></th>\n",
       "    </tr>\n",
       "  </thead>\n",
       "  <tbody>\n",
       "    <tr>\n",
       "      <th>833042063</th>\n",
       "      <td>Chelsea Handler Admits She’s ‘Very Sexually At...</td>\n",
       "      <td>satire</td>\n",
       "    </tr>\n",
       "    <tr>\n",
       "      <th>832959523</th>\n",
       "      <td>How Theresa May Botched\\n\\nThose were the time...</td>\n",
       "      <td>satire</td>\n",
       "    </tr>\n",
       "    <tr>\n",
       "      <th>833039623</th>\n",
       "      <td>Robert Mueller III Rests His Case—Dems NEVER W...</td>\n",
       "      <td>satire</td>\n",
       "    </tr>\n",
       "    <tr>\n",
       "      <th>833032367</th>\n",
       "      <td>Robert Mueller Not Recommending Any More Indic...</td>\n",
       "      <td>satire</td>\n",
       "    </tr>\n",
       "    <tr>\n",
       "      <th>814777937</th>\n",
       "      <td>The Far Right Is Trying to Co-opt the Yellow V...</td>\n",
       "      <td>satire</td>\n",
       "    </tr>\n",
       "  </tbody>\n",
       "</table>\n",
       "</div>"
      ],
      "text/plain": [
       "                                                        text    type\n",
       "id                                                                  \n",
       "833042063  Chelsea Handler Admits She’s ‘Very Sexually At...  satire\n",
       "832959523  How Theresa May Botched\\n\\nThose were the time...  satire\n",
       "833039623  Robert Mueller III Rests His Case—Dems NEVER W...  satire\n",
       "833032367  Robert Mueller Not Recommending Any More Indic...  satire\n",
       "814777937  The Far Right Is Trying to Co-opt the Yellow V...  satire"
      ]
     },
     "execution_count": 33,
     "metadata": {},
     "output_type": "execute_result"
    }
   ],
   "source": [
    "df_train.head()"
   ]
  },
  {
   "cell_type": "code",
   "execution_count": 34,
   "metadata": {},
   "outputs": [
    {
     "data": {
      "text/html": [
       "<div>\n",
       "<style scoped>\n",
       "    .dataframe tbody tr th:only-of-type {\n",
       "        vertical-align: middle;\n",
       "    }\n",
       "\n",
       "    .dataframe tbody tr th {\n",
       "        vertical-align: top;\n",
       "    }\n",
       "\n",
       "    .dataframe thead th {\n",
       "        text-align: right;\n",
       "    }\n",
       "</style>\n",
       "<table border=\"1\" class=\"dataframe\">\n",
       "  <thead>\n",
       "    <tr style=\"text-align: right;\">\n",
       "      <th></th>\n",
       "      <th>text</th>\n",
       "    </tr>\n",
       "    <tr>\n",
       "      <th>id</th>\n",
       "      <th></th>\n",
       "    </tr>\n",
       "  </thead>\n",
       "  <tbody>\n",
       "    <tr>\n",
       "      <th>813452859</th>\n",
       "      <td>EU Profits From Trading With UK While London L...</td>\n",
       "    </tr>\n",
       "    <tr>\n",
       "      <th>813494037</th>\n",
       "      <td>Sadiq Khan Slammed for Pro-EU 'Message of Supp...</td>\n",
       "    </tr>\n",
       "    <tr>\n",
       "      <th>813547724</th>\n",
       "      <td>Foreign Secretary Jeremy Hunt says the UK shou...</td>\n",
       "    </tr>\n",
       "    <tr>\n",
       "      <th>813552066</th>\n",
       "      <td>You insult us, ambassador: Woody Johnson flagr...</td>\n",
       "    </tr>\n",
       "    <tr>\n",
       "      <th>813601978</th>\n",
       "      <td>Big Apple joins in ringing in New Year after r...</td>\n",
       "    </tr>\n",
       "  </tbody>\n",
       "</table>\n",
       "</div>"
      ],
      "text/plain": [
       "                                                        text\n",
       "id                                                          \n",
       "813452859  EU Profits From Trading With UK While London L...\n",
       "813494037  Sadiq Khan Slammed for Pro-EU 'Message of Supp...\n",
       "813547724  Foreign Secretary Jeremy Hunt says the UK shou...\n",
       "813552066  You insult us, ambassador: Woody Johnson flagr...\n",
       "813601978  Big Apple joins in ringing in New Year after r..."
      ]
     },
     "execution_count": 34,
     "metadata": {},
     "output_type": "execute_result"
    }
   ],
   "source": [
    "df_test.head()"
   ]
  },
  {
   "cell_type": "markdown",
   "metadata": {},
   "source": [
    "##### check data characteristics"
   ]
  },
  {
   "cell_type": "code",
   "execution_count": 35,
   "metadata": {},
   "outputs": [
    {
     "name": "stdout",
     "output_type": "stream",
     "text": [
      "Total number of samples:\n",
      "text    433\n",
      "type    433\n",
      "dtype: int64\n",
      "\n",
      "class distribution:\n",
      "type\n",
      "opinion      382\n",
      "reporting     41\n",
      "satire        10\n",
      "Name: type, dtype: int64\n",
      "\n",
      " class distribution in %:\n",
      "type\n",
      "opinion      0.88\n",
      "reporting    0.09\n",
      "satire       0.02\n",
      "Name: type, dtype: float64\n"
     ]
    },
    {
     "data": {
      "image/png": "[encoded data removed]",
      "text/plain": [
       "<Figure size 640x480 with 1 Axes>"
      ]
     },
     "metadata": {},
     "output_type": "display_data"
    }
   ],
   "source": [
    "hf.class_distr(class_col=\"type\", df = df_train)"
   ]
  },
  {
   "cell_type": "code",
   "execution_count": 36,
   "metadata": {},
   "outputs": [
    {
     "name": "stdout",
     "output_type": "stream",
     "text": [
      "\n",
      " Median number of words per sample in train set: 685.0\n",
      "\n",
      " Median number of words per sample in test set: 695.0\n"
     ]
    }
   ],
   "source": [
    "words_per_sample_train = hf.words_per_sample(df_train[\"text\"]) \n",
    "words_per_sample_test = hf.words_per_sample(df_test[\"text\"]) \n",
    "print(f\"\\n Median number of words per sample in train set: {words_per_sample_train}\")\n",
    "print(f\"\\n Median number of words per sample in test set: {words_per_sample_test}\")"
   ]
  },
  {
   "cell_type": "code",
   "execution_count": 37,
   "metadata": {},
   "outputs": [
    {
     "data": {
      "image/png": "[encoded data removed]",
      "text/plain": [
       "<Figure size 640x480 with 1 Axes>"
      ]
     },
     "metadata": {},
     "output_type": "display_data"
    }
   ],
   "source": [
    "hf.plot_sample_length_distr(df_train[\"text\"])"
   ]
  },
  {
   "cell_type": "code",
   "execution_count": 38,
   "metadata": {},
   "outputs": [
    {
     "name": "stdout",
     "output_type": "stream",
     "text": [
      "0.6321167883211679\n",
      "0.11942446043165468\n"
     ]
    }
   ],
   "source": [
    "num_samples_train = df_train.count().values[0]\n",
    "num_samples_test = df_test.count().values[0]\n",
    "\n",
    "train_ratio =  num_samples_train/words_per_sample_train\n",
    "test_ratio = num_samples_test/ words_per_sample_test\n",
    "print(train_ratio)\n",
    "print(test_ratio)"
   ]
  },
  {
   "cell_type": "markdown",
   "metadata": {},
   "source": [
    "#### Process data"
   ]
  },
  {
   "cell_type": "code",
   "execution_count": null,
   "metadata": {},
   "outputs": [],
   "source": []
  }
 ],
 "metadata": {
  "kernelspec": {
   "display_name": "Python 3.10.9 ('source': venv)",
   "language": "python",
   "name": "python3"
  },
  "language_info": {
   "codemirror_mode": {
    "name": "ipython",
    "version": 3
   },
   "file_extension": ".py",
   "mimetype": "text/x-python",
   "name": "python",
   "nbconvert_exporter": "python",
   "pygments_lexer": "ipython3",
   "version": "3.10.9"
  },
  "orig_nbformat": 4,
  "vscode": {
   "interpreter": {
    "hash": "bf7d91fb3c5e24934485a778409c7348a219d3cc01f65259bde733ab45700c3d"
   }
  }
 },
 "nbformat": 4,
 "nbformat_minor": 2
}
